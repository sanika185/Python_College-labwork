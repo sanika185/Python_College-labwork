{
 "cells": [
  {
   "cell_type": "code",
   "execution_count": 1,
   "metadata": {},
   "outputs": [
    {
     "name": "stdout",
     "output_type": "stream",
     "text": [
      "Enter city name:PUNE\n",
      "{'coord': {'lon': 73.8553, 'lat': 18.5196}, 'weather': [{'id': 803, 'main': 'Clouds', 'description': 'broken clouds', 'icon': '04d'}], 'base': 'stations', 'main': {'temp': 28.94, 'feels_like': 32.6, 'temp_min': 28.65, 'temp_max': 28.94, 'pressure': 1009, 'humidity': 70, 'sea_level': 1009, 'grnd_level': 948}, 'visibility': 10000, 'wind': {'speed': 4.04, 'deg': 257, 'gust': 5.24}, 'clouds': {'all': 84}, 'dt': 1723440241, 'sys': {'type': 2, 'id': 2096426, 'country': 'IN', 'sunrise': 1723423535, 'sunset': 1723469627}, 'timezone': 19800, 'id': 1259229, 'name': 'Pune', 'cod': 200}\n"
     ]
    }
   ],
   "source": [
    "#experiment 2 weather \n",
    "import json\n",
    "import requests\n",
    "#API to fetch temperature of city \n",
    "city_name=input(\"Enter city name:\")\n",
    "api_key='9eb851d3864ea2437df66351176c2783'\n",
    "#To build URL api\n",
    "api_url=f'https://api.openweathermap.org/data/2.5/weather?q={city_name}&appid={api_key}&units=metric'\n",
    "get_server_information=requests.get(api_url)\n",
    "print(get_server_information.json())"
   ]
  },
  {
   "cell_type": "code",
   "execution_count": null,
   "metadata": {},
   "outputs": [],
   "source": []
  }
 ],
 "metadata": {
  "kernelspec": {
   "display_name": "Python 3",
   "language": "python",
   "name": "python3"
  },
  "language_info": {
   "codemirror_mode": {
    "name": "ipython",
    "version": 3
   },
   "file_extension": ".py",
   "mimetype": "text/x-python",
   "name": "python",
   "nbconvert_exporter": "python",
   "pygments_lexer": "ipython3",
   "version": "3.8.5"
  }
 },
 "nbformat": 4,
 "nbformat_minor": 4
}
