{
 "cells": [
  {
   "cell_type": "code",
   "execution_count": 6,
   "metadata": {},
   "outputs": [
    {
     "name": "stdout",
     "output_type": "stream",
     "text": [
      "1D Array:\n",
      "[1 2 3 4 5]\n"
     ]
    }
   ],
   "source": [
    "#functioning of pandas(22UAI024)\n",
    "import numpy as np\n",
    "# Create a 1D array\n",
    "array_1d = np.array([1, 2, 3, 4, 5])\n",
    "print(\"1D Array:\")\n",
    "print(array_1d)"
   ]
  },
  {
   "cell_type": "code",
   "execution_count": 7,
   "metadata": {},
   "outputs": [
    {
     "name": "stdout",
     "output_type": "stream",
     "text": [
      "2D Array:\n",
      "[[1 2 3]\n",
      " [4 5 6]]\n"
     ]
    }
   ],
   "source": [
    "# Create a 2D array (matrix)\n",
    "array_2d = np.array([[1, 2, 3], [4, 5, 6]])\n",
    "print(\"2D Array:\")\n",
    "print(array_2d)\n"
   ]
  },
  {
   "cell_type": "code",
   "execution_count": 8,
   "metadata": {},
   "outputs": [
    {
     "name": "stdout",
     "output_type": "stream",
     "text": [
      "Shape of 2D Array: (2, 3)\n",
      "Number of elements: 6\n"
     ]
    }
   ],
   "source": [
    "# Shape and size of array\n",
    "print(\"Shape of 2D Array:\", array_2d.shape)\n",
    "print(\"Number of elements:\", array_2d.size)"
   ]
  },
  {
   "cell_type": "code",
   "execution_count": 9,
   "metadata": {},
   "outputs": [
    {
     "name": "stdout",
     "output_type": "stream",
     "text": [
      "Array after addition:\n",
      "[11 12 13 14 15]\n",
      "Array after multiplication:\n",
      "[ 2  4  6  8 10]\n"
     ]
    }
   ],
   "source": [
    "# Arithmatic operations\n",
    "array_sum = array_1d + 10\n",
    "print(\"Array after addition:\")\n",
    "print(array_sum)\n",
    "array_product = array_1d * 2\n",
    "print(\"Array after multiplication:\")\n",
    "print(array_product)\n"
   ]
  },
  {
   "cell_type": "code",
   "execution_count": 10,
   "metadata": {},
   "outputs": [
    {
     "name": "stdout",
     "output_type": "stream",
     "text": [
      "Element at [0, 1]: 2\n",
      "Sliced array (first row):\n",
      "[1 2 3]\n"
     ]
    }
   ],
   "source": [
    "# Accessing a specific element\n",
    "element = array_2d[0, 1]  \n",
    "print(\"Element at [0, 1]:\", element)\n",
    "\n",
    "# Slicing an array\n",
    "sliced_array = array_2d[0, :]\n",
    "print(\"Sliced array (first row):\")\n",
    "print(sliced_array)"
   ]
  },
  {
   "cell_type": "code",
   "execution_count": 11,
   "metadata": {},
   "outputs": [
    {
     "name": "stdout",
     "output_type": "stream",
     "text": [
      "Mean value: 3.0\n",
      "Standard deviation: 1.4142135623730951\n"
     ]
    }
   ],
   "source": [
    "# Compute mean\n",
    "mean_value = np.mean(array_1d)\n",
    "print(\"Mean value:\", mean_value)\n",
    "\n",
    "# Compute standard deviation\n",
    "std_deviation = np.std(array_1d)\n",
    "print(\"Standard deviation:\", std_deviation)"
   ]
  },
  {
   "cell_type": "code",
   "execution_count": 12,
   "metadata": {},
   "outputs": [
    {
     "name": "stdout",
     "output_type": "stream",
     "text": [
      "Minimum value: 1\n",
      "Maximum value: 5\n"
     ]
    }
   ],
   "source": [
    "# Find minimum and maximum values\n",
    "min_value = np.min(array_1d)\n",
    "max_value = np.max(array_1d)\n",
    "print(\"Minimum value:\", min_value)\n",
    "print(\"Maximum value:\", max_value)"
   ]
  },
  {
   "cell_type": "code",
   "execution_count": 14,
   "metadata": {},
   "outputs": [
    {
     "name": "stdout",
     "output_type": "stream",
     "text": [
      "Array of zeros:\n",
      "[[0. 0. 0.]\n",
      " [0. 0. 0.]]\n"
     ]
    }
   ],
   "source": [
    "# Create an array of zeros\n",
    "zeros_array = np.zeros((2, 3))\n",
    "print(\"Array of zeros:\")\n",
    "print(zeros_array)"
   ]
  }
 ],
 "metadata": {
  "kernelspec": {
   "display_name": "Python 3",
   "language": "python",
   "name": "python3"
  },
  "language_info": {
   "codemirror_mode": {
    "name": "ipython",
    "version": 3
   },
   "file_extension": ".py",
   "mimetype": "text/x-python",
   "name": "python",
   "nbconvert_exporter": "python",
   "pygments_lexer": "ipython3",
   "version": "3.8.5"
  }
 },
 "nbformat": 4,
 "nbformat_minor": 4
}
