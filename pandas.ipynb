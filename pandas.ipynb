{
 "cells": [
  {
   "cell_type": "code",
   "execution_count": 12,
   "metadata": {},
   "outputs": [
    {
     "name": "stdout",
     "output_type": "stream",
     "text": [
      "DataFrame from dictionary:\n",
      "     Name  Age     City\n",
      "0  Ananya   25   France\n",
      "1  Sanika   30    India\n",
      "2  Aastha   35  Chicago\n"
     ]
    }
   ],
   "source": [
    "#Functioning of pandas\n",
    "\n",
    "import pandas as pd\n",
    "# Creating a DataFrame from a dictionary\n",
    "data = {\n",
    "    'Name': ['Ananya', 'Sanika', 'Aastha'],\n",
    "    'Age': [25, 30, 35],\n",
    "    'City': ['France', 'India', 'Chicago']\n",
    "}\n",
    "df = pd.DataFrame(data)\n",
    "print(\"DataFrame from dictionary:\")\n",
    "print(df)"
   ]
  },
  {
   "cell_type": "code",
   "execution_count": 5,
   "metadata": {},
   "outputs": [
    {
     "name": "stdout",
     "output_type": "stream",
     "text": [
      "DataFrame from list of lists:\n",
      "      Name  Age     City\n",
      "0      Lee   25    China\n",
      "1   Sanika   30    Japan\n",
      "2  Charlie   35  Chicago\n"
     ]
    }
   ],
   "source": [
    "# Creating a DataFrame from a list of lists\n",
    "data = [\n",
    "    ['Lee', 25, 'China'],\n",
    "    ['Sanika', 30, 'Japan'],\n",
    "    ['Charlie', 35, 'Chicago']\n",
    "]\n",
    "df = pd.DataFrame(data, columns=['Name', 'Age', 'City'])\n",
    "print(\"DataFrame from list of lists:\")\n",
    "print(df)"
   ]
  },
  {
   "cell_type": "code",
   "execution_count": 6,
   "metadata": {},
   "outputs": [
    {
     "name": "stdout",
     "output_type": "stream",
     "text": [
      "DataFrame after adding a new column:\n",
      "      Name  Age     City Occupation\n",
      "0      Lee   25    China   Engineer\n",
      "1   Sanika   30    Japan     Doctor\n",
      "2  Charlie   35  Chicago     Artist\n"
     ]
    }
   ],
   "source": [
    "# Add a new column\n",
    "df['Occupation'] = ['Engineer', 'Doctor', 'Artist']\n",
    "print(\"DataFrame after adding a new column:\")\n",
    "print(df)\n"
   ]
  },
  {
   "cell_type": "code",
   "execution_count": 7,
   "metadata": {},
   "outputs": [
    {
     "name": "stdout",
     "output_type": "stream",
     "text": [
      "DataFrame after dropping the 'Occupation' column:\n",
      "      Name  Age     City\n",
      "0      Lee   25    China\n",
      "1   Sanika   30    Japan\n",
      "2  Charlie   35  Chicago\n"
     ]
    }
   ],
   "source": [
    "# Drop a column\n",
    "df_dropped = df.drop('Occupation', axis=1)\n",
    "print(\"DataFrame after dropping the 'Occupation' column:\")\n",
    "print(df_dropped)"
   ]
  },
  {
   "cell_type": "code",
   "execution_count": 9,
   "metadata": {},
   "outputs": [
    {
     "name": "stdout",
     "output_type": "stream",
     "text": [
      "DataFrame sorted by Age:\n",
      "      Name  Age     City Occupation\n",
      "0      Lee   25    China   Engineer\n",
      "1   Sanika   30    Japan     Doctor\n",
      "2  Charlie   35  Chicago     Artist\n"
     ]
    }
   ],
   "source": [
    "# Sort by a single column\n",
    "df_sorted = df.sort_values(by='Age')\n",
    "print(\"DataFrame sorted by Age:\")\n",
    "print(df_sorted)\n"
   ]
  },
  {
   "cell_type": "code",
   "execution_count": 10,
   "metadata": {},
   "outputs": [
    {
     "name": "stdout",
     "output_type": "stream",
     "text": [
      "DataFrame sorted by City and then by Age:\n",
      "      Name  Age     City Occupation\n",
      "2  Charlie   35  Chicago     Artist\n",
      "0      Lee   25    China   Engineer\n",
      "1   Sanika   30    Japan     Doctor\n"
     ]
    }
   ],
   "source": [
    "# Sort by multiple columns\n",
    "df_sorted_multi = df.sort_values(by=['City', 'Age'])\n",
    "print(\"DataFrame sorted by City and then by Age:\")\n",
    "print(df_sorted_multi)\n"
   ]
  },
  {
   "cell_type": "code",
   "execution_count": 11,
   "metadata": {},
   "outputs": [
    {
     "name": "stdout",
     "output_type": "stream",
     "text": [
      "Grouped by City and mean values:\n",
      "         Age\n",
      "City        \n",
      "Chicago   35\n",
      "China     25\n",
      "Japan     30\n"
     ]
    }
   ],
   "source": [
    "# Group by a column and aggregate\n",
    "grouped = df.groupby('City').mean(numeric_only=True)\n",
    "print(\"Grouped by City and mean values:\")\n",
    "print(grouped)"
   ]
  }
 ],
 "metadata": {
  "kernelspec": {
   "display_name": "Python 3",
   "language": "python",
   "name": "python3"
  },
  "language_info": {
   "codemirror_mode": {
    "name": "ipython",
    "version": 3
   },
   "file_extension": ".py",
   "mimetype": "text/x-python",
   "name": "python",
   "nbconvert_exporter": "python",
   "pygments_lexer": "ipython3",
   "version": "3.8.5"
  }
 },
 "nbformat": 4,
 "nbformat_minor": 4
}
